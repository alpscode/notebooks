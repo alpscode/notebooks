{
 "cells": [
  {
   "cell_type": "markdown",
   "metadata": {},
   "source": [
    "We are combining everything together. We will change the search term below and search for related subreddits (up to limit) and then parse 5 items in each and show thumbnail (if exists)."
   ]
  },
  {
   "cell_type": "code",
   "execution_count": 1,
   "metadata": {},
   "outputs": [],
   "source": [
    "# Change these values\n",
    "search_term = 'puppies'\n",
    "sr_limit = 10\n",
    "display_here = True\n",
    "save_as_html = True\n",
    "post_filter = 'top' # You can use 'top', 'hot', 'new', 'rising', 'random'\n",
    "period = 'month' # You can use 'hour', 'day', 'week', 'month', 'year', 'all' (as a top filter)"
   ]
  },
  {
   "cell_type": "code",
   "execution_count": 2,
   "metadata": {},
   "outputs": [],
   "source": [
    "# User-specific settings\n",
    "import os\n",
    "reddit_username = 'alpscode'\n",
    "reddit_password = os.environ['reddit_pass']\n",
    "app_id = 'QC-6FYIEH_kqUw'\n",
    "app_secret = os.environ['reddit_secret']\n",
    "reddit_header = {'user-agent': 'parser by alpscode'}"
   ]
  },
  {
   "cell_type": "code",
   "execution_count": 3,
   "metadata": {},
   "outputs": [],
   "source": [
    "import requests\n",
    "base_url = 'https://www.reddit.com/'\n",
    "data = {'grant_type': 'password', 'username': reddit_username, 'password': reddit_password}\n",
    "client_auth = requests.auth.HTTPBasicAuth(app_id, app_secret)\n",
    "response = requests.post(base_url + 'api/v1/access_token',\n",
    "                  data=data,\n",
    "                  headers=reddit_header,\n",
    "                  auth=client_auth)\n",
    "values = response.json()\n",
    "api_url = 'https://oauth.reddit.com'\n",
    "token = 'bearer {}'.format(values['access_token'])\n",
    "headers = {'Authorization': token, 'User-Agent': 'parser by {}'.format(reddit_username)}"
   ]
  },
  {
   "cell_type": "code",
   "execution_count": 4,
   "metadata": {},
   "outputs": [
    {
     "name": "stdout",
     "output_type": "stream",
     "text": [
      "Parsing following subreddits\n",
      "['puppies', 'aww', 'dogpictures', 'corgi', 'lookatmydog', 'pics', 'dogs', 'Eyebleach', 'goldenretrievers', 'husky']\n"
     ]
    }
   ],
   "source": [
    "payload = {'q': search_term, 'limit': sr_limit}\n",
    "response = requests.get(api_url + '/subreddits/search', headers=headers, params=payload)\n",
    "js = response.json()\n",
    "\n",
    "sr = []\n",
    "for i in range(js['data']['dist']):\n",
    "    sr.append(js['data']['children'][i]['data']['display_name'])\n",
    "\n",
    "print('Parsing following subreddits')\n",
    "print(sr)"
   ]
  },
  {
   "cell_type": "code",
   "execution_count": 5,
   "metadata": {},
   "outputs": [],
   "source": [
    "payload = {'t': period, 'limit': 5}\n",
    "imghtml = ''\n",
    "for s in sr:\n",
    "    imghtml += '<h3 style=\"clear:both\">{}</h3><div>'.format(s)\n",
    "    r = requests.get(api_url + '/r/{}/{}'.format(s, post_filter), headers=headers, params=payload)\n",
    "    js = r.json()\n",
    "    for i in range(js['data']['dist']):\n",
    "        thumbnail = js['data']['children'][i]['data']['thumbnail']\n",
    "        if thumbnail in ['', 'self', 'nsfw', 'spoiler', 'default']:\n",
    "            continue\n",
    "        imghtml += '<span style=\"float:left\"><a href=\"{}\"><img src=\"{}\" title=\"{}\" target=\"_blank\" \\></a></span>'.format(\n",
    "            js['data']['children'][i]['data']['url'],\n",
    "            thumbnail,\n",
    "            js['data']['children'][i]['data']['title'],\n",
    "        )\n",
    "    imghtml += '</div>'"
   ]
  },
  {
   "cell_type": "code",
   "execution_count": 6,
   "metadata": {
    "scrolled": false
   },
   "outputs": [
    {
     "data": {
      "text/html": [
       "<h3 style=\"clear:both\">puppies</h3><div><span style=\"float:left\"><a href=\"https://imgur.com/SvgaEdD\"><img src=\"https://b.thumbs.redditmedia.com/rtK3EdQ6Xflw1iEKBjkBSUTnU-pfV8XQiCM8wX4015E.jpg\" title=\"Poppy - defender of the Christmas tree\" target=\"_blank\" \\></a></span><span style=\"float:left\"><a href=\"https://i.imgur.com/47uJpYI.jpg\"><img src=\"https://b.thumbs.redditmedia.com/O3Xcj4SBLfCAt-tYx8EBG0wnt2u7PW1hABgv5iDlM1w.jpg\" title=\"beach boi\" target=\"_blank\" \\></a></span><span style=\"float:left\"><a href=\"https://imgur.com/36kYI2m\"><img src=\"https://a.thumbs.redditmedia.com/W6b567LmInU2lWXh_6pE8jkW6JzA0juvZnwfWiSAJY4.jpg\" title=\"Bath time\" target=\"_blank\" \\></a></span><span style=\"float:left\"><a href=\"https://i.imgur.com/ehs117X.jpg\"><img src=\"https://a.thumbs.redditmedia.com/zr8dFEqZFtkuBgRy6kb5-0KKpC7eVvvREAuQnaxK1t8.jpg\" title=\"Ready for the cold!\" target=\"_blank\" \\></a></span><span style=\"float:left\"><a href=\"https://imgur.com/0YDMrcs\"><img src=\"https://b.thumbs.redditmedia.com/e1nH7DwoBDgMRWr8Yk9bX_2ouCVqshfvGAynsuZa0og.jpg\" title=\"Poppy - ready to steal your significant other\" target=\"_blank\" \\></a></span></div><h3 style=\"clear:both\">aww</h3><div><span style=\"float:left\"><a href=\"https://v.redd.it/8yxczvto3q321\"><img src=\"https://b.thumbs.redditmedia.com/f0GfKORjxIM5_3Q3VwmuyRgLPAz7ENxUxG5P3N-tfBk.jpg\" title=\"Smooches from his fren makes him very happy\" target=\"_blank\" \\></a></span><span style=\"float:left\"><a href=\"https://i.redd.it/a9606qaboy321.jpg\"><img src=\"https://b.thumbs.redditmedia.com/irdMZOwf9CRwCYlem5WJprr7bZ822zzhse09MWSbG-g.jpg\" title=\"Not many farm cats make it to 18, but Carrot has\" target=\"_blank\" \\></a></span><span style=\"float:left\"><a href=\"https://i.redd.it/47dnvj48n5421.jpg\"><img src=\"https://b.thumbs.redditmedia.com/sk7iRixkq-UOc4PlTTLZl7Vo8cGEltFz6Ku6tze5TJQ.jpg\" title=\"Waiting for food\" target=\"_blank\" \\></a></span><span style=\"float:left\"><a href=\"https://i.redd.it/mlda6fvs55521.jpg\"><img src=\"https://b.thumbs.redditmedia.com/1n9qFuUy150MaRjV18c6kRFA7ot45qJgdBih-V5RbDo.jpg\" title=\"My Dad (79) went from “I don’t want that dang cat” to carrying her to “her room” for bed each night.\" target=\"_blank\" \\></a></span><span style=\"float:left\"><a href=\"https://i.imgur.com/rRblvAl.gifv\"><img src=\"https://b.thumbs.redditmedia.com/cYynIx6tV5eVTCW7T7AK6wf6ZUfxzQZNhePCsszIbZw.jpg\" title=\"The boss said it's ok to bring your cat to work today.\" target=\"_blank\" \\></a></span></div><h3 style=\"clear:both\">dogpictures</h3><div><span style=\"float:left\"><a href=\"https://i.redd.it/41juz3ynmw021.jpg\"><img src=\"https://b.thumbs.redditmedia.com/1Qwrz_vRtDOYrCta5GmqbD7X3uQCud9r_W5wUvJbgiw.jpg\" title=\"After wanting a dog for 29 years, last week we adopted this gent. Reddit, meet Bowie!\" target=\"_blank\" \\></a></span><span style=\"float:left\"><a href=\"https://i.redd.it/mg0fsng1xt521.jpg\"><img src=\"https://b.thumbs.redditmedia.com/zWm0BmHc_sWrXw0WbJINoOd1AysGeg3vMPt89ZdRvUU.jpg\" title=\"Can we just admire a picture my mom took of a good boy for a moment?\" target=\"_blank\" \\></a></span><span style=\"float:left\"><a href=\"https://i.redd.it/jlv5eur86e521.jpg\"><img src=\"https://b.thumbs.redditmedia.com/7W30GXdeGqJsce6u_S1q21u7Ss0ga_B0yzWU_6QqMUk.jpg\" title=\"Please... Stop when you hit someone's pet.. My dog got hit today and the guy left like it was nothing.. leaving my dog to his death.. Rest in peace Mambo... I'll never forget you... you were the best for me... This was the most beautiful picturw I've ever taken of him...\" target=\"_blank\" \\></a></span><span style=\"float:left\"><a href=\"https://i.redd.it/2nzmcfuzuz521.jpg\"><img src=\"https://b.thumbs.redditmedia.com/JaqCLM8v1y1jb6eaSoDM9G6qQVwvO48Nr7xwBFk9RxA.jpg\" title=\"She hadn’t seen me in three weeks and now she won’t go away unless I scratched her behind the ears and gave her a kiss on the head.. she comes back every 5 minutes\" target=\"_blank\" \\></a></span><span style=\"float:left\"><a href=\"https://i.redd.it/s9006pj7aa121.jpg\"><img src=\"https://b.thumbs.redditmedia.com/0XD13xuVQLjEkuLyu70r7p7XMNogGZ6Q4Zrk93_nNBo.jpg\" title=\"My 11 week old baby girl\" target=\"_blank\" \\></a></span></div><h3 style=\"clear:both\">corgi</h3><div><span style=\"float:left\"><a href=\"https://i.redd.it/dq7yw5irv0621.jpg\"><img src=\"https://a.thumbs.redditmedia.com/OJm6esdt1VlctpKifRYGbAtCNekDk9mTm5ZOAGCtQ64.jpg\" title=\"“Have yourself a very awkward Christmas..”\" target=\"_blank\" \\></a></span><span style=\"float:left\"><a href=\"https://i.redd.it/hrln24d0pm521.jpg\"><img src=\"https://b.thumbs.redditmedia.com/WQaT6x4oZElroN7HHxAVFQxS_szn8IxmDf251zSsBGc.jpg\" title=\"The day we picked up our burnt little loaf.\" target=\"_blank\" \\></a></span><span style=\"float:left\"><a href=\"https://i.imgur.com/hS5Q1g5.gifv\"><img src=\"https://b.thumbs.redditmedia.com/L3EpoIr16j8AwUzBJj700s-x9z4ldwnhYi7klZMaALw.jpg\" title=\"What a weird looking cow\" target=\"_blank\" \\></a></span><span style=\"float:left\"><a href=\"https://i.imgur.com/QIJ4vZ6.gifv\"><img src=\"https://a.thumbs.redditmedia.com/e05cNg4qLRSv5SGlhVxdmEFGJ0q7P0HXwmWu2GT0EU4.jpg\" title=\"Corgis can do anything, even fly\" target=\"_blank\" \\></a></span><span style=\"float:left\"><a href=\"https://i.redd.it/p61ky2y25z421.jpg\"><img src=\"https://b.thumbs.redditmedia.com/y0AtcT4kapas_EcRAlW6-ygw8kW7CurfRyK3LK7Zwsk.jpg\" title=\"Parks &amp; Rec and double sploot\" target=\"_blank\" \\></a></span></div><h3 style=\"clear:both\">lookatmydog</h3><div><span style=\"float:left\"><a href=\"https://i.imgur.com/sA6mPDf.jpg\"><img src=\"https://b.thumbs.redditmedia.com/3sWC7tDMt3uwiuFX12aiMrpLeuwvLRWYKZsSZOQ2yJw.jpg\" title=\"Every upvotes is one nose boop\" target=\"_blank\" \\></a></span><span style=\"float:left\"><a href=\"https://v.redd.it/sah2ahrj3h121\"><img src=\"https://b.thumbs.redditmedia.com/EZi6BBJ47vgyRgF7wgodeEIHYMc9-jivFamLSsl5eGE.jpg\" title=\"Catching the wind\" target=\"_blank\" \\></a></span><span style=\"float:left\"><a href=\"https://i.redd.it/3br17busfd521.jpg\"><img src=\"https://a.thumbs.redditmedia.com/EP9_Lt3Jo9pX8H7zHzNxypLBdp-a7A_I33DPIigSIy0.jpg\" title=\"I'm Horus, I'm mostly blind because the person who adopted me before wasn't as nice as I thought they would be. But I'm safe and happy now!\" target=\"_blank\" \\></a></span><span style=\"float:left\"><a href=\"https://i.redd.it/exeoslpi5b421.jpg\"><img src=\"https://b.thumbs.redditmedia.com/mnHWsRgE7sQSuqjnd9sDbAkIdHN3m-ag9YE9AeAkpjQ.jpg\" title=\"Had to say goodbye to this majestic guy today... I’m at a loss for words. I’ll miss you so much Albus, thank you for everything. 🖤\" target=\"_blank\" \\></a></span><span style=\"float:left\"><a href=\"https://i.imgur.com/i0qEWOX.jpg\"><img src=\"https://b.thumbs.redditmedia.com/RwlOq-SmknRZHhcaugsYdmJcP0FnlxSvARs_bU3x1lA.jpg\" title=\"Murray - my 14yo pup!\" target=\"_blank\" \\></a></span></div><h3 style=\"clear:both\">pics</h3><div><span style=\"float:left\"><a href=\"https://i.redd.it/06ozylnfmm521.jpg\"><img src=\"https://b.thumbs.redditmedia.com/9i4oc_9Z2Xzv7Llg4PRLF8N8UPC7GFGgyMCkvTlzUSY.jpg\" title=\"Water ice on Mars, just shot by the ESA!\" target=\"_blank\" \\></a></span><span style=\"float:left\"><a href=\"https://i.redd.it/32sxj9wahy121.jpg\"><img src=\"https://b.thumbs.redditmedia.com/nWymvOWGiC5PT_qepS4fBkhbYgCEEcI6ovEEekjw8HA.jpg\" title=\"80 years later\" target=\"_blank\" \\></a></span><span style=\"float:left\"><a href=\"https://i.redd.it/g9fsgxinz4321.jpg\"><img src=\"https://b.thumbs.redditmedia.com/kfpJ9xn5MrQqvealE7G9a8envZwn8TYwxRCB0AoDy2Y.jpg\" title=\"My Nonna wanted me to post this on the internet so that “everyone in Italy can see how big my Tomatoes have gotten”\" target=\"_blank\" \\></a></span><span style=\"float:left\"><a href=\"https://i.redd.it/labzyvid1m021.jpg\"><img src=\"https://b.thumbs.redditmedia.com/jxRmTB05UV5KzADF9bxkj12CevBXHWFWEWp5C5lSVsA.jpg\" title=\"Just shot my first street photography photo where somebody randomly walked into frame projectile vomiting.\" target=\"_blank\" \\></a></span><span style=\"float:left\"><a href=\"https://i.redd.it/q759d83b70521.jpg\"><img src=\"https://a.thumbs.redditmedia.com/mTFDI_gdBhjlAOgqm_QEYrDPqyrmwl1ofRa-Z0YDob0.jpg\" title=\"McDonald's worker with Down Syndrome retires after 32 years\" target=\"_blank\" \\></a></span></div><h3 style=\"clear:both\">dogs</h3><div></div><h3 style=\"clear:both\">Eyebleach</h3><div><span style=\"float:left\"><a href=\"https://i.imgur.com/mn3Wg7z.gifv\"><img src=\"https://b.thumbs.redditmedia.com/J8FByLnY4FJ8L8G-QW_hSsWH-_0_i--B4qpTcZnPVqU.jpg\" title=\"UPS man is Snow white\" target=\"_blank\" \\></a></span><span style=\"float:left\"><a href=\"https://i.imgur.com/FxmvnVn.gifv\"><img src=\"https://b.thumbs.redditmedia.com/u_p72RADaYyxbSd_zZbHsih8CoTSpvKL37avF5djG0Y.jpg\" title=\"Just hanging out\" target=\"_blank\" \\></a></span><span style=\"float:left\"><a href=\"https://i.redd.it/hf0wt1qbfu521.jpg\"><img src=\"https://b.thumbs.redditmedia.com/I2RtV7CV7io6AfmzkZ5iwzuVzQSI9KCTJnAfcDnBtXA.jpg\" title=\"Hello Officer someone stole my treat\" target=\"_blank\" \\></a></span><span style=\"float:left\"><a href=\"https://i.redd.it/ajyd633no8421.jpg\"><img src=\"https://b.thumbs.redditmedia.com/ICWGuJT_g-kiig3fQlexJmVBcwMIRTFXSeJ1qcoEuck.jpg\" title=\"We don’t deserve dogs, man. We really don’t.\" target=\"_blank\" \\></a></span><span style=\"float:left\"><a href=\"https://i.redd.it/eqpck3r8ny021.jpg\"><img src=\"https://b.thumbs.redditmedia.com/mu9vy-wue1DcpTkMXqDGHc-lqKfUtVu5oej3IEk5y0k.jpg\" title=\"Mom can dave come over?\" target=\"_blank\" \\></a></span></div><h3 style=\"clear:both\">goldenretrievers</h3><div><span style=\"float:left\"><a href=\"https://i.redd.it/llnr4t01o1621.jpg\"><img src=\"https://b.thumbs.redditmedia.com/glF-FEKTFugSrAXml8zrozSYI-l4yeYwyb1V7YvLrAw.jpg\" title=\"My pile of Goldens\" target=\"_blank\" \\></a></span><span style=\"float:left\"><a href=\"https://i.redd.it/dnnmhqn38n521.jpg\"><img src=\"https://a.thumbs.redditmedia.com/WmPTELHNILLAvaeKGzbUcN5P9qy54VuT2OmopKMmpt4.jpg\" title=\"Somebody didn’t want me to leave\" target=\"_blank\" \\></a></span><span style=\"float:left\"><a href=\"https://i.redd.it/1bm4q8l00h421.jpg\"><img src=\"https://b.thumbs.redditmedia.com/MPpf0wqAlHzFeRuDLAbHffXfIt57JTFWmpnxcbQc2CA.jpg\" title=\"Morning Wakeup’s by the bedside\" target=\"_blank\" \\></a></span><span style=\"float:left\"><a href=\"https://i.redd.it/ahp00okcxo021.jpg\"><img src=\"https://a.thumbs.redditmedia.com/mhxMJHhoMH4YC4pkf1sM4EPYVbwvJmhfLhzjNi_g4t0.jpg\" title=\"1 year ago Maggie crossed the rainbow bridge after a 2 week fight after emergency surgery that she wasn't expected to survive. She smiled like this for me every single day, and never gave up. I miss you, friend ❤️\" target=\"_blank\" \\></a></span><span style=\"float:left\"><a href=\"https://v.redd.it/xu7y0z639o421\"><img src=\"https://a.thumbs.redditmedia.com/lekx6Bb5V1hNat3CwFSlLvzhxBlBCPoPeDfTdd4upm4.jpg\" title=\"She ate an ENTIRE gingerbread house. There is absolutely NO TRACE of it anywhere. Just this little cardboard base that was still sitting peacefully on top of a table.\" target=\"_blank\" \\></a></span></div><h3 style=\"clear:both\">husky</h3><div><span style=\"float:left\"><a href=\"https://i.imgur.com/NaVW1L8.jpg\"><img src=\"https://b.thumbs.redditmedia.com/kWOjCyYtSHtT4QZ9rk40oB12FTgszL_oLrreMsBW-tQ.jpg\" title=\"This is her “mom won’t share her burrito” face\" target=\"_blank\" \\></a></span><span style=\"float:left\"><a href=\"https://i.redd.it/xa3fjcxhsn421.jpg\"><img src=\"https://a.thumbs.redditmedia.com/Yr3KDMUlflIVH3JVz-RpXw7PmwdsQCVD_4FQEFwIOl8.jpg\" title=\"Almost 11 but a foot of fresh powder still makes her act like a puppy\" target=\"_blank\" \\></a></span><span style=\"float:left\"><a href=\"https://i.redd.it/yhy2pjxjm3121.jpg\"><img src=\"https://b.thumbs.redditmedia.com/IzAs0PkVhOGEE75XPBbse9_iy3u5X44iMJmpTpgU8lA.jpg\" title=\"When you try and take a nice photo with a husky\" target=\"_blank\" \\></a></span><span style=\"float:left\"><a href=\"https://i.redd.it/ot5yrrbzin521.jpg\"><img src=\"https://b.thumbs.redditmedia.com/EOhQLbVzQZel2ED08UOcdfrN6M8_mIpKIPQz7RBUqIE.jpg\" title=\"My brother brought this good boy to visit! I don’t think we’ll let him leave.\" target=\"_blank\" \\></a></span><span style=\"float:left\"><a href=\"https://i.imgur.com/rSHIpVe.jpg\"><img src=\"https://b.thumbs.redditmedia.com/TKOq6XCTavooR7Bs_e1YaSiwhJHXojB5pyNOQNO3XUU.jpg\" title=\"My girl Boo didn’t get much love over at r/aww not sure why huskies have such bad stigma surrounding them but she’s the best pup I’ve ever had\" target=\"_blank\" \\></a></span></div>"
      ],
      "text/plain": [
       "<IPython.core.display.HTML object>"
      ]
     },
     "metadata": {},
     "output_type": "display_data"
    }
   ],
   "source": [
    "if display_here:\n",
    "    from IPython.core.display import display, HTML\n",
    "    display(HTML(imghtml))\n",
    "if save_as_html:\n",
    "    with open(\"{}.html\".format(search_term), \"w\", encoding='utf-8') as html_page:\n",
    "        html_page.write(imghtml)"
   ]
  },
  {
   "cell_type": "code",
   "execution_count": null,
   "metadata": {},
   "outputs": [],
   "source": []
  }
 ],
 "metadata": {
  "kernelspec": {
   "display_name": "Python 3",
   "language": "python",
   "name": "python3"
  },
  "language_info": {
   "codemirror_mode": {
    "name": "ipython",
    "version": 3
   },
   "file_extension": ".py",
   "mimetype": "text/x-python",
   "name": "python",
   "nbconvert_exporter": "python",
   "pygments_lexer": "ipython3",
   "version": "3.7.1"
  }
 },
 "nbformat": 4,
 "nbformat_minor": 2
}
